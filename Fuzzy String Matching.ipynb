{
 "cells": [
  {
   "cell_type": "markdown",
   "metadata": {},
   "source": [
    "# Fuzzy String Matching"
   ]
  },
  {
   "cell_type": "markdown",
   "metadata": {},
   "source": [
    "It is a process of finding strings that match a given pattern approximately\n",
    "The degree of closeness between two strings is measured using Levenshtein Distance, also known as edit distance\n",
    "It is based on counting number of primitive operations required to convert one string to the exact match of the other string"
   ]
  },
  {
   "cell_type": "markdown",
   "metadata": {},
   "source": [
    "These primitive operations can consist of:\n",
    "    Insertion (to insert a new character at a given position)\n",
    "    Deletion (to delete a particular character)\n",
    "    Substitution (to replace a character with a new one)\n",
    "    Transposition (to swap positions of two letters)"
   ]
  },
  {
   "cell_type": "markdown",
   "metadata": {},
   "source": [
    "String Similarity\n",
    "The simplest way to compare two strings is with a measurement of edit distance.\n",
    "NEW YORK METS\n",
    "NEW YORK MEATS\n",
    "Looks like a harmless misspelling. Can we quantify it? Using python’s difflib, that’s pretty easy"
   ]
  },
  {
   "cell_type": "code",
   "execution_count": 2,
   "metadata": {
    "collapsed": false
   },
   "outputs": [
    {
     "data": {
      "text/plain": [
       "0.9629629629629629"
      ]
     },
     "execution_count": 2,
     "metadata": {},
     "output_type": "execute_result"
    }
   ],
   "source": [
    "from difflib import SequenceMatcher\n",
    "m = SequenceMatcher(None, \"NEW YORK METS\", \"NEW YORK MEATS\")\n",
    "m.ratio()"
   ]
  },
  {
   "cell_type": "markdown",
   "metadata": {},
   "source": [
    "So it looks like these two strings are about 96% the same. Pretty good! We use this pattern so frequently, we wrote a helper method to encapsulate it"
   ]
  },
  {
   "cell_type": "code",
   "execution_count": 4,
   "metadata": {
    "collapsed": false
   },
   "outputs": [
    {
     "name": "stderr",
     "output_type": "stream",
     "text": [
      "C:\\Anaconda3\\lib\\site-packages\\fuzzywuzzy\\fuzz.py:35: UserWarning: Using slow pure-python SequenceMatcher. Install python-Levenshtein to remove this warning\n",
      "  warnings.warn('Using slow pure-python SequenceMatcher. Install python-Levenshtein to remove this warning')\n"
     ]
    },
    {
     "data": {
      "text/plain": [
       "96"
      ]
     },
     "execution_count": 4,
     "metadata": {},
     "output_type": "execute_result"
    }
   ],
   "source": [
    "from fuzzywuzzy import fuzz\n",
    "fuzz.ratio(\"NEW YORK METS\", \"NEW YORK MEATS\")"
   ]
  },
  {
   "cell_type": "markdown",
   "metadata": {},
   "source": [
    "## There are four popular types of fuzzy matching logic supported by fuzzywuzzy package:"
   ]
  },
  {
   "cell_type": "markdown",
   "metadata": {},
   "source": [
    "1.Ratio – uses pure Levenshtein Distance based matching\n",
    "2.Partial Ratio – matches based on best substrings\n",
    "3.Token Sort Ratio – tokenizes the strings and sorts them alphabetically before matching\n",
    "4.Token Set Ratio – tokenizes the strings and compared the intersection and remainder"
   ]
  },
  {
   "cell_type": "markdown",
   "metadata": {},
   "source": [
    "### When compared strings differ by punctuation"
   ]
  },
  {
   "cell_type": "code",
   "execution_count": 9,
   "metadata": {
    "collapsed": false
   },
   "outputs": [
    {
     "name": "stdout",
     "output_type": "stream",
     "text": [
      "Exact Match Score is 100 using fuzz.ratio which uses pure Levenshtein Distance based matching\n"
     ]
    }
   ],
   "source": [
    "print(\"Exact Match Score is\",fuzz.ratio('Testing','Testing'),\"using fuzz.ratio which uses pure Levenshtein Distance based matching\")"
   ]
  },
  {
   "cell_type": "code",
   "execution_count": 10,
   "metadata": {
    "collapsed": false
   },
   "outputs": [
    {
     "name": "stdout",
     "output_type": "stream",
     "text": [
      "Exact Match Score is 93 using fuzz.ratio which uses pure Levenshtein Distance based matching\n"
     ]
    }
   ],
   "source": [
    "print(\"Exact Match Score is\",fuzz.ratio('Testing','Testing!'),\"using fuzz.ratio which uses pure Levenshtein Distance based matching\")"
   ]
  },
  {
   "cell_type": "code",
   "execution_count": 11,
   "metadata": {
    "collapsed": false
   },
   "outputs": [
    {
     "name": "stdout",
     "output_type": "stream",
     "text": [
      "Partial Match Score is 100 using fuzz.partial_ratio which matches based on best substrings\n"
     ]
    }
   ],
   "source": [
    "print(\"Partial Match Score is\",fuzz.partial_ratio('Testing','Testing!'),\"using fuzz.partial_ratio which matches based on best substrings\")"
   ]
  },
  {
   "cell_type": "code",
   "execution_count": 12,
   "metadata": {
    "collapsed": false
   },
   "outputs": [
    {
     "name": "stdout",
     "output_type": "stream",
     "text": [
      "Token sort score is 100 using fuzz.token_sort_ratio which tokenizes the strings and sorts them alphabetically before matching\n"
     ]
    }
   ],
   "source": [
    "print(\"Token sort score is\",fuzz.token_sort_ratio('Testing','Testing!'),\"using fuzz.token_sort_ratio which tokenizes the strings and sorts them alphabetically before matching\")"
   ]
  },
  {
   "cell_type": "code",
   "execution_count": 13,
   "metadata": {
    "collapsed": false
   },
   "outputs": [
    {
     "name": "stdout",
     "output_type": "stream",
     "text": [
      "Token set score is 100 using fuzz.token_set_ratio which tokenizes the strings and compared the intersection and remainder\n"
     ]
    }
   ],
   "source": [
    "print(\"Token set score is\",fuzz.token_set_ratio('Testing','Testing!'),\"using fuzz.token_set_ratio which tokenizes the strings and compared the intersection and remainder\")"
   ]
  },
  {
   "cell_type": "markdown",
   "metadata": {},
   "source": [
    "### When compared strings have different case"
   ]
  },
  {
   "cell_type": "code",
   "execution_count": 14,
   "metadata": {
    "collapsed": false
   },
   "outputs": [
    {
     "name": "stdout",
     "output_type": "stream",
     "text": [
      "Exact Match Score is 82 using fuzz.ratio which uses pure Levenshtein Distance based matching\n"
     ]
    }
   ],
   "source": [
    "print(\"Exact Match Score is\",fuzz.ratio('Testing One','testing one'),\"using fuzz.ratio which uses pure Levenshtein Distance based matching\")"
   ]
  },
  {
   "cell_type": "code",
   "execution_count": 17,
   "metadata": {
    "collapsed": false
   },
   "outputs": [
    {
     "name": "stdout",
     "output_type": "stream",
     "text": [
      "Partial Match Score is 82 using fuzz.partial_ratio which matches based on best substrings\n"
     ]
    }
   ],
   "source": [
    "print(\"Partial Match Score is\",fuzz.partial_ratio('Testing One','testing one'),\"using fuzz.partial_ratio which matches based on best substrings\")"
   ]
  },
  {
   "cell_type": "code",
   "execution_count": 18,
   "metadata": {
    "collapsed": false
   },
   "outputs": [
    {
     "name": "stdout",
     "output_type": "stream",
     "text": [
      "Token sort score is 100 using fuzz.token_sort_ratio which tokenizes the strings and sorts them alphabetically before matching\n"
     ]
    }
   ],
   "source": [
    "print(\"Token sort score is\",fuzz.token_sort_ratio('Testing One','testing one'),\"using fuzz.token_sort_ratio which tokenizes the strings and sorts them alphabetically before matching\")"
   ]
  },
  {
   "cell_type": "code",
   "execution_count": 19,
   "metadata": {
    "collapsed": false
   },
   "outputs": [
    {
     "name": "stdout",
     "output_type": "stream",
     "text": [
      "Token set score is 100 using fuzz.token_set_ratio which tokenizes the strings and compared the intersection and remainder\n"
     ]
    }
   ],
   "source": [
    "print(\"Token set score is\",fuzz.token_set_ratio('Testing One','testing one'),\"using fuzz.token_set_ratio which tokenizes the strings and compared the intersection and remainder\")"
   ]
  },
  {
   "cell_type": "markdown",
   "metadata": {},
   "source": [
    "### When compared strings are in different order"
   ]
  },
  {
   "cell_type": "code",
   "execution_count": 20,
   "metadata": {
    "collapsed": false
   },
   "outputs": [
    {
     "name": "stdout",
     "output_type": "stream",
     "text": [
      "Exact Match Score is 64 using fuzz.ratio which uses pure Levenshtein Distance based matching\n"
     ]
    }
   ],
   "source": [
    "print(\"Exact Match Score is\",fuzz.ratio('Testing One','One Testing'),\"using fuzz.ratio which uses pure Levenshtein Distance based matching\")"
   ]
  },
  {
   "cell_type": "code",
   "execution_count": 21,
   "metadata": {
    "collapsed": false
   },
   "outputs": [
    {
     "name": "stdout",
     "output_type": "stream",
     "text": [
      "Partial Match Score is 78 using fuzz.partial_ratio which matches based on best substrings\n"
     ]
    }
   ],
   "source": [
    "print(\"Partial Match Score is\",fuzz.partial_ratio('Testing One','One Testing'),\"using fuzz.partial_ratio which matches based on best substrings\")"
   ]
  },
  {
   "cell_type": "code",
   "execution_count": 22,
   "metadata": {
    "collapsed": false
   },
   "outputs": [
    {
     "name": "stdout",
     "output_type": "stream",
     "text": [
      "Token sort score is 100 using fuzz.token_sort_ratio which tokenizes the strings and sorts them alphabetically before matching\n"
     ]
    }
   ],
   "source": [
    "print(\"Token sort score is\",fuzz.token_sort_ratio('Testing One','One Testing'),\"using fuzz.token_sort_ratio which tokenizes the strings and sorts them alphabetically before matching\")"
   ]
  },
  {
   "cell_type": "code",
   "execution_count": 23,
   "metadata": {
    "collapsed": false
   },
   "outputs": [
    {
     "name": "stdout",
     "output_type": "stream",
     "text": [
      "Token set score is 100 using fuzz.token_set_ratio which tokenizes the strings and compared the intersection and remainder\n"
     ]
    }
   ],
   "source": [
    "print(\"Token set score is\",fuzz.token_set_ratio('Testing One','One Testing'),\"using fuzz.token_set_ratio which tokenizes the strings and compared the intersection and remainder\")"
   ]
  },
  {
   "cell_type": "markdown",
   "metadata": {},
   "source": [
    "### When compared strings are subset"
   ]
  },
  {
   "cell_type": "code",
   "execution_count": 24,
   "metadata": {
    "collapsed": false
   },
   "outputs": [
    {
     "name": "stdout",
     "output_type": "stream",
     "text": [
      "Exact Match Score is 61 using fuzz.ratio which uses pure Levenshtein Distance based matching\n"
     ]
    }
   ],
   "source": [
    "print(\"Exact Match Score is\",fuzz.ratio('Testing One Twoo','Testing'),\"using fuzz.ratio which uses pure Levenshtein Distance based matching\")"
   ]
  },
  {
   "cell_type": "code",
   "execution_count": 25,
   "metadata": {
    "collapsed": false
   },
   "outputs": [
    {
     "name": "stdout",
     "output_type": "stream",
     "text": [
      "Partial Match Score is 100 using fuzz.partial_ratio which matches based on best substrings\n"
     ]
    }
   ],
   "source": [
    "print(\"Partial Match Score is\",fuzz.partial_ratio('Testing One Twoo','Testing'),\"using fuzz.partial_ratio which matches based on best substrings\")"
   ]
  },
  {
   "cell_type": "code",
   "execution_count": 26,
   "metadata": {
    "collapsed": false
   },
   "outputs": [
    {
     "name": "stdout",
     "output_type": "stream",
     "text": [
      "Token sort score is 61 using fuzz.token_sort_ratio which tokenizes the strings and sorts them alphabetically before matching\n"
     ]
    }
   ],
   "source": [
    "print(\"Token sort score is\",fuzz.token_sort_ratio('Testing One Twoo','Testing'),\"using fuzz.token_sort_ratio which tokenizes the strings and sorts them alphabetically before matching\")"
   ]
  },
  {
   "cell_type": "code",
   "execution_count": 27,
   "metadata": {
    "collapsed": false
   },
   "outputs": [
    {
     "name": "stdout",
     "output_type": "stream",
     "text": [
      "Token set score is 100 using fuzz.token_set_ratio which tokenizes the strings and compared the intersection and remainder\n"
     ]
    }
   ],
   "source": [
    "print(\"Token set score is\",fuzz.token_set_ratio('Testing One Twoo','Testing'),\"using fuzz.token_set_ratio which tokenizes the strings and compared the intersection and remainder\")"
   ]
  },
  {
   "cell_type": "markdown",
   "metadata": {},
   "source": [
    "## Comparing against list of choices"
   ]
  },
  {
   "cell_type": "code",
   "execution_count": 31,
   "metadata": {
    "collapsed": true
   },
   "outputs": [],
   "source": [
    "from fuzzywuzzy import process"
   ]
  },
  {
   "cell_type": "code",
   "execution_count": 29,
   "metadata": {
    "collapsed": true
   },
   "outputs": [],
   "source": [
    "# search key\n",
    "key = 'Testing FuzzyWuzzy' \n",
    "\n",
    "# List of 10 string choices to compare against search key\n",
    "choices = ['Testing Fuzzy Wuzzy', 'Testing Wuzzy','FuzzyWuzzy Testing','Testing WuzzyFuzzy',\n",
    "           'Testing fuzzy wuzzy', 'fuzzy wuzzy test','Testing']"
   ]
  },
  {
   "cell_type": "code",
   "execution_count": 33,
   "metadata": {
    "collapsed": false
   },
   "outputs": [
    {
     "data": {
      "text/plain": [
       "[('Testing Fuzzy Wuzzy', 97),\n",
       " ('Testing fuzzy wuzzy', 97),\n",
       " ('Testing Wuzzy', 84),\n",
       " ('Testing WuzzyFuzzy', 72),\n",
       " ('fuzzy wuzzy test', 59),\n",
       " ('FuzzyWuzzy Testing', 56),\n",
       " ('Testing', 56)]"
      ]
     },
     "execution_count": 33,
     "metadata": {},
     "output_type": "execute_result"
    }
   ],
   "source": [
    "# Get a list of matches ordered by the score, using fuzz.ratio fuzzy matching (default limit is 5 top matches)\n",
    "process.extract(key, choices, scorer=fuzz.ratio, limit =7)"
   ]
  },
  {
   "cell_type": "code",
   "execution_count": 40,
   "metadata": {
    "collapsed": false
   },
   "outputs": [
    {
     "data": {
      "text/plain": [
       "('Testing Fuzzy Wuzzy', 97)"
      ]
     },
     "execution_count": 40,
     "metadata": {},
     "output_type": "execute_result"
    }
   ],
   "source": [
    "# use “score_cutoff” argument to set a threshold for the best match score\n",
    "process.extractOne(key, choices, scorer=fuzz.ratio,score_cutoff=90)"
   ]
  },
  {
   "cell_type": "code",
   "execution_count": 41,
   "metadata": {
    "collapsed": false
   },
   "outputs": [
    {
     "name": "stdout",
     "output_type": "stream",
     "text": [
      "None\n"
     ]
    }
   ],
   "source": [
    "print(process.extractOne(key, choices, scorer=fuzz.ratio,score_cutoff=98))"
   ]
  },
  {
   "cell_type": "markdown",
   "metadata": {},
   "source": [
    "## Applying FuzzyMatch to entire dataset"
   ]
  },
  {
   "cell_type": "code",
   "execution_count": null,
   "metadata": {
    "collapsed": true
   },
   "outputs": [],
   "source": []
  },
  {
   "cell_type": "code",
   "execution_count": null,
   "metadata": {
    "collapsed": true
   },
   "outputs": [],
   "source": []
  }
 ],
 "metadata": {
  "anaconda-cloud": {},
  "kernelspec": {
   "display_name": "Python [conda root]",
   "language": "python",
   "name": "conda-root-py"
  },
  "language_info": {
   "codemirror_mode": {
    "name": "ipython",
    "version": 3
   },
   "file_extension": ".py",
   "mimetype": "text/x-python",
   "name": "python",
   "nbconvert_exporter": "python",
   "pygments_lexer": "ipython3",
   "version": "3.5.2"
  }
 },
 "nbformat": 4,
 "nbformat_minor": 2
}
